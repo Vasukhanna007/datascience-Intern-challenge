{
 "cells": [
  {
   "cell_type": "code",
   "execution_count": 25,
   "id": "0a4eba02",
   "metadata": {},
   "outputs": [],
   "source": [
    "import pandas as pd\n",
    "from matplotlib import pyplot as plt\n",
    "import statistics\n",
    "import sys\n",
    "from collections import Counter\n"
   ]
  },
  {
   "cell_type": "code",
   "execution_count": 26,
   "id": "208092db",
   "metadata": {},
   "outputs": [
    {
     "data": {
      "text/html": [
       "<div>\n",
       "<style scoped>\n",
       "    .dataframe tbody tr th:only-of-type {\n",
       "        vertical-align: middle;\n",
       "    }\n",
       "\n",
       "    .dataframe tbody tr th {\n",
       "        vertical-align: top;\n",
       "    }\n",
       "\n",
       "    .dataframe thead th {\n",
       "        text-align: right;\n",
       "    }\n",
       "</style>\n",
       "<table border=\"1\" class=\"dataframe\">\n",
       "  <thead>\n",
       "    <tr style=\"text-align: right;\">\n",
       "      <th></th>\n",
       "      <th>order_id</th>\n",
       "      <th>shop_id</th>\n",
       "      <th>user_id</th>\n",
       "      <th>order_amount</th>\n",
       "      <th>total_items</th>\n",
       "      <th>payment_method</th>\n",
       "      <th>created_at</th>\n",
       "    </tr>\n",
       "  </thead>\n",
       "  <tbody>\n",
       "    <tr>\n",
       "      <td>0</td>\n",
       "      <td>1</td>\n",
       "      <td>53</td>\n",
       "      <td>746</td>\n",
       "      <td>224</td>\n",
       "      <td>2</td>\n",
       "      <td>cash</td>\n",
       "      <td>2017-03-13 12:36:56</td>\n",
       "    </tr>\n",
       "    <tr>\n",
       "      <td>1</td>\n",
       "      <td>2</td>\n",
       "      <td>92</td>\n",
       "      <td>925</td>\n",
       "      <td>90</td>\n",
       "      <td>1</td>\n",
       "      <td>cash</td>\n",
       "      <td>2017-03-03 17:38:52</td>\n",
       "    </tr>\n",
       "    <tr>\n",
       "      <td>2</td>\n",
       "      <td>3</td>\n",
       "      <td>44</td>\n",
       "      <td>861</td>\n",
       "      <td>144</td>\n",
       "      <td>1</td>\n",
       "      <td>cash</td>\n",
       "      <td>2017-03-14 4:23:56</td>\n",
       "    </tr>\n",
       "    <tr>\n",
       "      <td>3</td>\n",
       "      <td>4</td>\n",
       "      <td>18</td>\n",
       "      <td>935</td>\n",
       "      <td>156</td>\n",
       "      <td>1</td>\n",
       "      <td>credit_card</td>\n",
       "      <td>2017-03-26 12:43:37</td>\n",
       "    </tr>\n",
       "    <tr>\n",
       "      <td>4</td>\n",
       "      <td>5</td>\n",
       "      <td>18</td>\n",
       "      <td>883</td>\n",
       "      <td>156</td>\n",
       "      <td>1</td>\n",
       "      <td>credit_card</td>\n",
       "      <td>2017-03-01 4:35:11</td>\n",
       "    </tr>\n",
       "  </tbody>\n",
       "</table>\n",
       "</div>"
      ],
      "text/plain": [
       "   order_id  shop_id  user_id  order_amount  total_items payment_method  \\\n",
       "0         1       53      746           224            2           cash   \n",
       "1         2       92      925            90            1           cash   \n",
       "2         3       44      861           144            1           cash   \n",
       "3         4       18      935           156            1    credit_card   \n",
       "4         5       18      883           156            1    credit_card   \n",
       "\n",
       "            created_at  \n",
       "0  2017-03-13 12:36:56  \n",
       "1  2017-03-03 17:38:52  \n",
       "2   2017-03-14 4:23:56  \n",
       "3  2017-03-26 12:43:37  \n",
       "4   2017-03-01 4:35:11  "
      ]
     },
     "execution_count": 26,
     "metadata": {},
     "output_type": "execute_result"
    }
   ],
   "source": [
    "orders = pd.read_csv('2019 Winter Data Science Intern Challenge Data Set - Sheet1.csv')\n",
    "orders.head()\n"
   ]
  },
  {
   "cell_type": "code",
   "execution_count": 29,
   "id": "0c0e829a",
   "metadata": {},
   "outputs": [
    {
     "name": "stdout",
     "output_type": "stream",
     "text": [
      "The incorrect calculated AOV is:  3145.128\n"
     ]
    }
   ],
   "source": [
    "#  we naively calculate an AOV of $3145.13, this incorrect calculation.\n",
    "order_amount_sum = orders['order_amount'].sum()\n",
    "totat_items_count = orders['total_items'].count()\n",
    "incorrect_AOV = order_amount_sum/totat_items_count\n",
    "print('The incorrect calculated AOV is: ', incorrect_AOV)"
   ]
  },
  {
   "cell_type": "code",
   "execution_count": 30,
   "id": "df227fe8",
   "metadata": {},
   "outputs": [
    {
     "data": {
      "text/plain": [
       "count      5000.000000\n",
       "mean       3145.128000\n",
       "std       41282.539349\n",
       "min          90.000000\n",
       "25%         163.000000\n",
       "50%         284.000000\n",
       "75%         390.000000\n",
       "max      704000.000000\n",
       "Name: order_amount, dtype: float64"
      ]
     },
     "execution_count": 30,
     "metadata": {},
     "output_type": "execute_result"
    }
   ],
   "source": [
    "# or naive calculation can also be obtained by this (mean from the table), both imply the same thing \n",
    "pd.Series(orders['order_amount']).describe()\n"
   ]
  },
  {
   "cell_type": "markdown",
   "id": "4259cea8",
   "metadata": {},
   "source": [
    "Question 1a: Think about what could be going wrong with our calculation. Think about a better way to evaluate this data.\n",
    "\n",
    "**=> This calculation tries to evaluate the AOV across all 100 shops over the 30 day window by averaging the order_amount column, i.e dividing order_amount by count of total_items (and not sum). The result is a very high value.**"
   ]
  },
  {
   "cell_type": "markdown",
   "id": "35dcbee0",
   "metadata": {},
   "source": [
    "[According to this blog on Shopify's Website](https://www.shopify.com.ng/blog/average-order-value#averageorder) If a shop has a sale of $2000 and has a 100 orders, Average order value is $20. \n",
    "\n",
    "An order can have multiple quantities (and products but since it is assumed shops only sell one model of shoe). To get AOV we divide the total revenue by the total number of orders. Doing this for each shop and getting the average."
   ]
  },
  {
   "cell_type": "markdown",
   "id": "e11a07dc",
   "metadata": {},
   "source": [
    "### Summary\n",
    "One way of approaching could be to first find the AOV i.e (total order amount / no of orders) of each shop and then find the Mean, Median, Mode of AOV of all the 100 shops."
   ]
  },
  {
   "cell_type": "code",
   "execution_count": 38,
   "id": "9a17d9c9",
   "metadata": {},
   "outputs": [
    {
     "name": "stdout",
     "output_type": "stream",
     "text": [
      "mean of Average order value 3136.834087887025\n",
      "median of Average order value is:  308.8897584973166\n"
     ]
    }
   ],
   "source": [
    "'''iterating over all shops and storing average order value, \n",
    " quantity of sneakers sold, average price of sneaker by each shop''' \n",
    "aov_all_shops=[]\n",
    "qty_all_shops=[]\n",
    "avg_price_of_sneaker_all_shops=[]\n",
    "for i in range(1, max(orders['shop_id']) + 1):\n",
    "    no_of_orders = orders[orders['shop_id'] == i]['order_id'].count()\n",
    "    order_amount = orders[orders['shop_id'] == i]['order_amount'].sum()\n",
    "    totat_items_sum = orders[orders['shop_id'] == i]['total_items'].sum()\n",
    "    average_price_of_sneaker = order_amount/totat_items_sum\n",
    "    aov =  order_amount/no_of_orders\n",
    "    aov_all_shops.append(aov)\n",
    "    qty_all_shops.append(totat_items_sum)\n",
    "    avg_price_of_sneaker_all_shops.append(average_price_of_sneaker)\n",
    "\n",
    "print('mean of Average order value', statistics.mean(aov_all_shops))\n",
    "print('median of Average order value is: ', statistics.median(aov_all_shops))\n",
    "\n"
   ]
  },
  {
   "cell_type": "code",
   "execution_count": 32,
   "id": "23b46601",
   "metadata": {},
   "outputs": [
    {
     "data": {
      "image/png": "[encoded data removed]",
      "text/plain": [
       "<Figure size 432x288 with 1 Axes>"
      ]
     },
     "metadata": {
      "needs_background": "light"
     },
     "output_type": "display_data"
    }
   ],
   "source": [
    "# plot showing avg order value of each shop \n",
    "\n",
    "fig = plt.figure()\n",
    "ax = fig.add_axes([0,0,1,1])\n",
    "\n",
    "x = [i for i in range(1,101)]\n",
    "y = aov_all_shops\n",
    "plt.scatter(x, y)\n",
    "plt.title('Average order value of each shop')\n",
    "plt.xlabel('Shops')\n",
    "plt.ylabel('Average Order Values')\n",
    "ax.bar(x, y)\n",
    "plt.show()"
   ]
  },
  {
   "cell_type": "markdown",
   "id": "9a73f2bd",
   "metadata": {},
   "source": [
    "Plot doesn't convey much other than the fact that there are a couple of outiers, that could be investigated. "
   ]
  },
  {
   "cell_type": "markdown",
   "id": "ba2d6686",
   "metadata": {},
   "source": [
    "\n",
    "### Average Price of a pair of sneaker \n"
   ]
  },
  {
   "cell_type": "code",
   "execution_count": 20,
   "id": "02cfb1fa",
   "metadata": {},
   "outputs": [
    {
     "name": "stdout",
     "output_type": "stream",
     "text": [
      "Summary of Average Price of a Sneaker \n",
      " count      100.000000\n",
      "mean       407.990000\n",
      "std       2557.462906\n",
      "min         90.000000\n",
      "25%        132.750000\n",
      "50%        153.000000\n",
      "75%        168.250000\n",
      "max      25725.000000\n",
      "dtype: float64\n",
      "mode of Average price of sneaker in each shop is:  153.0\n"
     ]
    }
   ],
   "source": [
    "print('Summary of Average Price of a Sneaker \\n', pd.Series(avg_price_of_sneaker_all_shops).describe())\n",
    "c_avg_price_of_sneaker_all_shops = Counter(avg_price_of_sneaker_all_shops)\n",
    "print('mode of Average price of sneaker in each shop is: ', c_avg_price_of_sneaker_all_shops.most_common(1)[0][0])\n"
   ]
  },
  {
   "cell_type": "markdown",
   "id": "9cfae4aa",
   "metadata": {},
   "source": [
    "The mean price of a pair of sneaker across all shops is 407.99 Dollars, the median price is 153 Dollars and the mode price is also 153 Dollars. The maximum price of same pair of shoes is 25,725 Dollars, as seen in shop 78. Since this is way above the 3rd quantile, it means it is an outlier. Thus it affects the value of Mean. Here, <b><i>Median and Mode</i> </b> are  more <b>robust</b> as they help dampen the effect of outliers. "
   ]
  },
  {
   "cell_type": "markdown",
   "id": "8fd3cd8c",
   "metadata": {},
   "source": [
    "### Quantity sold by each shop\n"
   ]
  },
  {
   "cell_type": "code",
   "execution_count": 35,
   "id": "91525b7e",
   "metadata": {},
   "outputs": [
    {
     "name": "stdout",
     "output_type": "stream",
     "text": [
      "Summary of Quantity Sold by each shop \n",
      " count      100.000000\n",
      "mean       439.360000\n",
      "std       3396.366111\n",
      "min         67.000000\n",
      "25%         88.000000\n",
      "50%        100.000000\n",
      "75%        111.250000\n",
      "max      34063.000000\n",
      "dtype: float64\n",
      "mode of quantity sold:  153.0\n"
     ]
    }
   ],
   "source": [
    "print('Summary of Quantity Sold by each shop \\n', pd.Series(qty_all_shops).describe())\n",
    "c_qty_of_sneaker_sold_all_shops = Counter(avg_price_of_sneaker_all_shops)\n",
    "print('mode of quantity sold: ', c_qty_of_sneaker_sold_all_shops.most_common(1)[0][0])\n"
   ]
  },
  {
   "cell_type": "markdown",
   "id": "936a90f9",
   "metadata": {},
   "source": [
    "Quantity sold is another important metric in determining stores performance, It can be seen that a shop(shop_id=42) sells 34,063 pairs of shoes, it is an outlier. To dampen the effect of outlier median seems to be a better metric than mean. The median is 100 pairs and the mode is 153 pairs. So most of the stores sell 153 pair of shoes in a month  "
   ]
  },
  {
   "cell_type": "markdown",
   "id": "b5c45232",
   "metadata": {},
   "source": [
    "### Average Order Value"
   ]
  },
  {
   "cell_type": "code",
   "execution_count": 34,
   "id": "b9ea5b64",
   "metadata": {},
   "outputs": [
    {
     "name": "stdout",
     "output_type": "stream",
     "text": [
      "Summary of Average order value of each shop \n",
      " count       100.000000\n",
      "mean       3136.834088\n",
      "std       23935.881130\n",
      "min         162.857143\n",
      "25%         263.675962\n",
      "50%         308.889758\n",
      "75%         336.628352\n",
      "max      235101.490196\n",
      "dtype: float64\n",
      "mode of Average order value is:  308.8181818181818\n"
     ]
    }
   ],
   "source": [
    "print('Summary of Average order value of each shop \\n', pd.Series(aov_all_shops).describe())\n",
    "c_aov_allshops = Counter(aov_all_shops)\n",
    "print('mode of Average order value is: ', c_aov_allshops.most_common(1)[0][0])\n"
   ]
  },
  {
   "cell_type": "markdown",
   "id": "7dd9b6c9",
   "metadata": {},
   "source": [
    "Shop with shop_id 78 really affects the mean, because it sells a pair of shoes at a very high price of $25,725 which is way higher than the 3rd quantile i.e it is an outlier. Removing the outlier could give better results but since we don't have sufficient data which supports the argument that the price is wrong. Removing shop_id 78 would not be right. So I don't remove it from our analysis. \n",
    "The median of Average order value of each shop is 308.89 whereas the mode is 308.81\n"
   ]
  },
  {
   "cell_type": "markdown",
   "id": "003b2800",
   "metadata": {},
   "source": [
    "Question 1b: What metric would you report for this dataset?\n",
    "\n",
    "As written in shopify's blog\n",
    "\" Average order value will only give you a partial picture of your customer's purchase behavior. If you want to increase the value of your orders, he recommends business owners to consider all three measures of central tendency\n",
    "1) Mean\n",
    "2) Median\n",
    "3) Mode\n",
    "\n",
    "\"\n",
    "\n",
    "I would report modal order value (order value, shoes price) and median order value for this data set because due to outliers means value gets affected. Whereas median and mode shows a better picture of sales because they reduce the effect of outliers. As said in the blog, The shop owner should aim to move the modal orders up. \n",
    "\n",
    "Question 1c: What is its value?\n",
    "Median and Mode of Average order value is 308.89 and 308.81 Dollars respectively.\n",
    "Median and Mode of Average price of snear is 153 and 153 Dollars respectively.\n"
   ]
  },
  {
   "cell_type": "markdown",
   "id": "4577ff76",
   "metadata": {},
   "source": [
    "### Interesting Observations\n",
    "\n",
    "Shop with Shop_id 78 sells 88 shoes at a staggering price of 25,725 Dollars (God know what marketing they do), where as shop with Shop_id 42 sells 34063 pair of shoes at a price of $352. On playing around with data, I saw user_id 607 has multiple large transactions, buying 2000 sneaker pairs multiple times (17 to be exact) at same time. It could be some one using a bot to buy sneakaers for purpose of reselling or it could be an error.\n",
    "\n",
    "Fun Point: This analysis can be helpful for one who wants to open a sneaker store. One could get to know about the quantity \n",
    "\n"
   ]
  },
  {
   "cell_type": "code",
   "execution_count": null,
   "id": "0d0a405f",
   "metadata": {},
   "outputs": [],
   "source": []
  }
 ],
 "metadata": {
  "kernelspec": {
   "display_name": "Python 3",
   "language": "python",
   "name": "python3"
  },
  "language_info": {
   "codemirror_mode": {
    "name": "ipython",
    "version": 3
   },
   "file_extension": ".py",
   "mimetype": "text/x-python",
   "name": "python",
   "nbconvert_exporter": "python",
   "pygments_lexer": "ipython3",
   "version": "3.7.4"
  }
 },
 "nbformat": 4,
 "nbformat_minor": 5
}
